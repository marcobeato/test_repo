{
 "cells": [
  {
   "cell_type": "markdown",
   "metadata": {},
   "source": [
    "## Test notebook for matlab"
   ]
  },
  {
   "cell_type": "code",
   "execution_count": 1,
   "metadata": {},
   "outputs": [],
   "source": [
    "import pandas as pd\n",
    "import matplotlib.pyplot as plt\n",
    "import numpy as np\n",
    "import seaborn as sns; sns.set()\n"
   ]
  },
  {
   "cell_type": "code",
   "execution_count": 3,
   "metadata": {},
   "outputs": [],
   "source": [
    "Run_dat = pd.read_excel(r\"C:\\Users\\csmith\\OneDrive - University College London\\KV2.1_project_data\\running_data\\2021_running\\ChATkcnb1_Running_wheels_winter_21_group1_females_Feb_21.xlsx\",sheet_name='females')\n"
   ]
  },
  {
   "cell_type": "code",
   "execution_count": 5,
   "metadata": {},
   "outputs": [
    {
     "data": {
      "text/html": [
       "<div>\n",
       "<style scoped>\n",
       "    .dataframe tbody tr th:only-of-type {\n",
       "        vertical-align: middle;\n",
       "    }\n",
       "\n",
       "    .dataframe tbody tr th {\n",
       "        vertical-align: top;\n",
       "    }\n",
       "\n",
       "    .dataframe thead th {\n",
       "        text-align: right;\n",
       "    }\n",
       "</style>\n",
       "<table border=\"1\" class=\"dataframe\">\n",
       "  <thead>\n",
       "    <tr style=\"text-align: right;\">\n",
       "      <th></th>\n",
       "      <th>animal</th>\n",
       "      <th>Day</th>\n",
       "      <th>maxrev</th>\n",
       "      <th>Max</th>\n",
       "      <th>totalrev</th>\n",
       "      <th>totalDistance</th>\n",
       "      <th>sample</th>\n",
       "      <th>Week</th>\n",
       "      <th>genotype</th>\n",
       "    </tr>\n",
       "  </thead>\n",
       "  <tbody>\n",
       "    <tr>\n",
       "      <th>0</th>\n",
       "      <td>1</td>\n",
       "      <td>1</td>\n",
       "      <td>156.0</td>\n",
       "      <td>78.312</td>\n",
       "      <td>14623.0</td>\n",
       "      <td>7.340746</td>\n",
       "      <td>5.0</td>\n",
       "      <td>1.0</td>\n",
       "      <td>KO</td>\n",
       "    </tr>\n",
       "    <tr>\n",
       "      <th>1</th>\n",
       "      <td>2</td>\n",
       "      <td>1</td>\n",
       "      <td>163.0</td>\n",
       "      <td>81.826</td>\n",
       "      <td>17431.0</td>\n",
       "      <td>8.750362</td>\n",
       "      <td>5.0</td>\n",
       "      <td>1.0</td>\n",
       "      <td>Con</td>\n",
       "    </tr>\n",
       "    <tr>\n",
       "      <th>2</th>\n",
       "      <td>3</td>\n",
       "      <td>1</td>\n",
       "      <td>165.0</td>\n",
       "      <td>82.830</td>\n",
       "      <td>13592.0</td>\n",
       "      <td>6.823184</td>\n",
       "      <td>5.0</td>\n",
       "      <td>1.0</td>\n",
       "      <td>KO</td>\n",
       "    </tr>\n",
       "    <tr>\n",
       "      <th>3</th>\n",
       "      <td>4</td>\n",
       "      <td>1</td>\n",
       "      <td>130.0</td>\n",
       "      <td>65.260</td>\n",
       "      <td>10802.0</td>\n",
       "      <td>5.422604</td>\n",
       "      <td>5.0</td>\n",
       "      <td>1.0</td>\n",
       "      <td>Con</td>\n",
       "    </tr>\n",
       "    <tr>\n",
       "      <th>4</th>\n",
       "      <td>5</td>\n",
       "      <td>1</td>\n",
       "      <td>167.0</td>\n",
       "      <td>83.834</td>\n",
       "      <td>15971.0</td>\n",
       "      <td>8.017442</td>\n",
       "      <td>5.0</td>\n",
       "      <td>1.0</td>\n",
       "      <td>KO</td>\n",
       "    </tr>\n",
       "    <tr>\n",
       "      <th>...</th>\n",
       "      <td>...</td>\n",
       "      <td>...</td>\n",
       "      <td>...</td>\n",
       "      <td>...</td>\n",
       "      <td>...</td>\n",
       "      <td>...</td>\n",
       "      <td>...</td>\n",
       "      <td>...</td>\n",
       "      <td>...</td>\n",
       "    </tr>\n",
       "    <tr>\n",
       "      <th>379</th>\n",
       "      <td>8</td>\n",
       "      <td>32</td>\n",
       "      <td>58.0</td>\n",
       "      <td>29.116</td>\n",
       "      <td>16356.0</td>\n",
       "      <td>8.210712</td>\n",
       "      <td>1.0</td>\n",
       "      <td>6.0</td>\n",
       "      <td>Con</td>\n",
       "    </tr>\n",
       "    <tr>\n",
       "      <th>380</th>\n",
       "      <td>9</td>\n",
       "      <td>32</td>\n",
       "      <td>61.0</td>\n",
       "      <td>30.622</td>\n",
       "      <td>10805.0</td>\n",
       "      <td>5.424110</td>\n",
       "      <td>1.0</td>\n",
       "      <td>6.0</td>\n",
       "      <td>KO</td>\n",
       "    </tr>\n",
       "    <tr>\n",
       "      <th>381</th>\n",
       "      <td>10</td>\n",
       "      <td>32</td>\n",
       "      <td>60.0</td>\n",
       "      <td>30.120</td>\n",
       "      <td>17592.0</td>\n",
       "      <td>8.831184</td>\n",
       "      <td>1.0</td>\n",
       "      <td>6.0</td>\n",
       "      <td>Con</td>\n",
       "    </tr>\n",
       "    <tr>\n",
       "      <th>382</th>\n",
       "      <td>11</td>\n",
       "      <td>32</td>\n",
       "      <td>62.0</td>\n",
       "      <td>31.124</td>\n",
       "      <td>14805.0</td>\n",
       "      <td>7.432110</td>\n",
       "      <td>1.0</td>\n",
       "      <td>6.0</td>\n",
       "      <td>KO</td>\n",
       "    </tr>\n",
       "    <tr>\n",
       "      <th>383</th>\n",
       "      <td>12</td>\n",
       "      <td>32</td>\n",
       "      <td>63.0</td>\n",
       "      <td>31.626</td>\n",
       "      <td>16797.0</td>\n",
       "      <td>8.432094</td>\n",
       "      <td>1.0</td>\n",
       "      <td>6.0</td>\n",
       "      <td>Con</td>\n",
       "    </tr>\n",
       "  </tbody>\n",
       "</table>\n",
       "<p>384 rows × 9 columns</p>\n",
       "</div>"
      ],
      "text/plain": [
       "     animal  Day  maxrev     Max  totalrev  totalDistance  sample  Week  \\\n",
       "0         1    1   156.0  78.312   14623.0       7.340746     5.0   1.0   \n",
       "1         2    1   163.0  81.826   17431.0       8.750362     5.0   1.0   \n",
       "2         3    1   165.0  82.830   13592.0       6.823184     5.0   1.0   \n",
       "3         4    1   130.0  65.260   10802.0       5.422604     5.0   1.0   \n",
       "4         5    1   167.0  83.834   15971.0       8.017442     5.0   1.0   \n",
       "..      ...  ...     ...     ...       ...            ...     ...   ...   \n",
       "379       8   32    58.0  29.116   16356.0       8.210712     1.0   6.0   \n",
       "380       9   32    61.0  30.622   10805.0       5.424110     1.0   6.0   \n",
       "381      10   32    60.0  30.120   17592.0       8.831184     1.0   6.0   \n",
       "382      11   32    62.0  31.124   14805.0       7.432110     1.0   6.0   \n",
       "383      12   32    63.0  31.626   16797.0       8.432094     1.0   6.0   \n",
       "\n",
       "    genotype  \n",
       "0         KO  \n",
       "1        Con  \n",
       "2         KO  \n",
       "3        Con  \n",
       "4         KO  \n",
       "..       ...  \n",
       "379      Con  \n",
       "380       KO  \n",
       "381      Con  \n",
       "382       KO  \n",
       "383      Con  \n",
       "\n",
       "[384 rows x 9 columns]"
      ]
     },
     "execution_count": 5,
     "metadata": {},
     "output_type": "execute_result"
    }
   ],
   "source": [
    "Run_dat"
   ]
  },
  {
   "cell_type": "code",
   "execution_count": 6,
   "metadata": {},
   "outputs": [
    {
     "data": {
      "text/plain": [
       "<matplotlib.axes._subplots.AxesSubplot at 0x2d6c1045fd0>"
      ]
     },
     "execution_count": 6,
     "metadata": {},
     "output_type": "execute_result"
    },
    {
     "data": {
      "image/png": "[encoded data removed]",
      "text/plain": [
       "<Figure size 432x288 with 1 Axes>"
      ]
     },
     "metadata": {
      "needs_background": "light"
     },
     "output_type": "display_data"
    }
   ],
   "source": [
    "sns.lineplot(data=Run_dat,x='totalDistance',y='totalrev')"
   ]
  }
 ],
 "metadata": {
  "kernelspec": {
   "display_name": "Python 3",
   "language": "python",
   "name": "python3"
  },
  "language_info": {
   "codemirror_mode": {
    "name": "ipython",
    "version": 3
   },
   "file_extension": ".py",
   "mimetype": "text/x-python",
   "name": "python",
   "nbconvert_exporter": "python",
   "pygments_lexer": "ipython3",
   "version": "3.7.3"
  }
 },
 "nbformat": 4,
 "nbformat_minor": 4
}
